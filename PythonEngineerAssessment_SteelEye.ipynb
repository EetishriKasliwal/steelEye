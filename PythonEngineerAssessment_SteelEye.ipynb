{
 "cells": [
  {
   "cell_type": "code",
   "execution_count": 1,
   "metadata": {},
   "outputs": [],
   "source": [
    "from lxml import etree as ET\n",
    "import requests, zipfile, io\n",
    "import pandas as pd\n",
    "import os"
   ]
  },
  {
   "cell_type": "code",
   "execution_count": 2,
   "metadata": {},
   "outputs": [],
   "source": [
    "tree = ET.parse('python_assesment.xml')\n",
    "root = tree.getroot()\n",
    "#root = ET.fromstring(python_assesment_as_string)"
   ]
  },
  {
   "cell_type": "code",
   "execution_count": 3,
   "metadata": {},
   "outputs": [],
   "source": [
    "dlink = None\n",
    "path_name = os.path.abspath(os.getcwd())\n",
    "path_name += \"\\DLTINS\""
   ]
  },
  {
   "cell_type": "code",
   "execution_count": 4,
   "metadata": {},
   "outputs": [],
   "source": [
    "for doc in root.iter('doc'):\n",
    "    for child in doc:\n",
    "        if child.get('name') == 'download_link':\n",
    "            dlink = child.text\n",
    "        if child.get('name') == 'file_type' and child.text != 'DLTINS':\n",
    "            dlink = None\n",
    "    r = requests.get(dlink)\n",
    "    z = zipfile.ZipFile(io.BytesIO(r.content))\n",
    "    z.extractall(path=path_name)"
   ]
  },
  {
   "cell_type": "code",
   "execution_count": 5,
   "metadata": {},
   "outputs": [],
   "source": [
    "cnt = 1\n",
    "id, fullnm, clssfctnTP, cmmdtyDeriveInd, ntnlCcy, issr = None, None, None, None, None, None\n",
    "for xmlfile in os.listdir(path_name):\n",
    "    if xmlfile.endswith(\".xml\"):\n",
    "        root = ET.parse(path_name + \"/\" + xmlfile)\n",
    "\n",
    "        for elem in root.getiterator():\n",
    "            elem.tag = ET.QName(elem).localname\n",
    "        ET.cleanup_namespaces(root)\n",
    "        \n",
    "        cols = [\"FinInstrmGnlAttrbts.Id\",\n",
    "                \"FinInstrmGnlAttrbts.FullNm\", \n",
    "                \"FinInstrmGnlAttrbts.ClssfctnTp\", \n",
    "                \"FinInstrmGnlAttrbts.CmmdtyDerivInd\", \n",
    "                \"FinInstrmGnlAttrbts.NtnlCcy\", \n",
    "                \"Issr\"]\n",
    "        rows = []\n",
    "        \n",
    "        for finstrm in root.iter('FinInstrm'):\n",
    "            #trmntrecord = finstrm.find('TermntdRcrd')\n",
    "            for finattrb in finstrm.iter('FinInstrmGnlAttrbts'):\n",
    "                id = finattrb.find(\"Id\").text\n",
    "                fullnm = finattrb.find(\"FullNm\").text\n",
    "                clssfctnTP = finattrb.find(\"ClssfctnTp\").text\n",
    "                cmmdtyDeriveInd = finattrb.find(\"CmmdtyDerivInd\").text\n",
    "                ntnlCcy = finattrb.find(\"NtnlCcy\").text\n",
    "                issr = finattrb.find(\"./../Issr\").text\n",
    "                #print(cnt, id, fullnm, clssfctnTP, cmmdtyDeriveInd, ntnlCcy, issr)\n",
    "\n",
    "                rows.append({\"FinInstrmGnlAttrbts.Id\": id,\n",
    "                             \"FinInstrmGnlAttrbts.FullNm\": fullnm,\n",
    "                             \"FinInstrmGnlAttrbts.ClssfctnTp\": clssfctnTP,\n",
    "                             \"FinInstrmGnlAttrbts.CmmdtyDerivInd\": cmmdtyDeriveInd,\n",
    "                             \"FinInstrmGnlAttrbts.NtnlCcy\": ntnlCcy,\n",
    "                             \"Issr\": issr})\n",
    "        #print(id, fullnm, clssfctnTP, cmmdtyDeriveInd, ntnlCcy, issr)\n",
    "    \n",
    "        df = pd.DataFrame(rows, columns=cols)\n",
    "        df.to_csv(path_name + \"/output\" + str(cnt) + \".csv\")\n",
    "        cnt += 1"
   ]
  },
  {
   "cell_type": "code",
   "execution_count": null,
   "metadata": {},
   "outputs": [],
   "source": []
  }
 ],
 "metadata": {
  "kernelspec": {
   "display_name": "Python 3",
   "language": "python",
   "name": "python3"
  },
  "language_info": {
   "codemirror_mode": {
    "name": "ipython",
    "version": 3
   },
   "file_extension": ".py",
   "mimetype": "text/x-python",
   "name": "python",
   "nbconvert_exporter": "python",
   "pygments_lexer": "ipython3",
   "version": "3.7.4"
  }
 },
 "nbformat": 4,
 "nbformat_minor": 2
}
